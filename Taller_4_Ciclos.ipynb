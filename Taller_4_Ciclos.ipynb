{
  "cells": [
    {
      "cell_type": "markdown",
      "id": "66beb5a1",
      "metadata": {
        "id": "66beb5a1"
      },
      "source": [
        "# Fundamentos de Programación para Ingeniería Mecánica\n",
        "## UPB Montería - 202310\n",
        "### Taller 4: Ciclos\n",
        "- Docente: Miguel Ortiz (miguel.ortizp@upb.edu.co)"
      ]
    },
    {
      "cell_type": "markdown",
      "id": "b4381f55",
      "metadata": {
        "id": "b4381f55"
      },
      "source": [
        "Datos del Estudiante:\n",
        "- Nombre: andres guarin alvarez\n",
        "- ID: 000514479\n",
        "- email: andres.guarina@upb.edu.co"
      ]
    },
    {
      "cell_type": "markdown",
      "id": "433f35a0",
      "metadata": {
        "id": "433f35a0"
      },
      "source": [
        "Resuelva los siguientes ejercicios utilizando estructuras cíclicas y condicionales."
      ]
    },
    {
      "cell_type": "markdown",
      "id": "aead929b",
      "metadata": {
        "id": "aead929b"
      },
      "source": [
        "### Problema 1: Suma de Elementos (30xp)\n",
        "\n",
        "Indique cuál de los dos números ingresados por el usuario tiene una suma de dígitos mayor y la diferencia de estas sumas. Si las sumas de los dígitos son iguales, infórmelo al usuario. \n",
        "\n",
        "**Ejemplo:**\n",
        "\n",
        "```\n",
        "Ingrese el primer número: 23672646\n",
        "Ingrese el segundo número: 12653686\n",
        "La suma de los elementos de la lista 2 es mayor que la suma de los elementos de la lista 1 en 1 unidades.\n",
        "```\n",
        "\n",
        "**Recomendación:** pruebe su algoritmo con listas de prueba:\n",
        "- `lst_1`: lista que representa el primer número. Por ejemplo: dígitos del número de su documento de identidad\n",
        "- `lst_2`: lista que representa el segundo número. Por ejemplo: dígitos del número de su id\n",
        "\n",
        "**Nota:** para leer un número ingresado por el usuario y convertirlo en lista puede utilizar las siguientes instrucciones:\n",
        "\n",
        "```python\n",
        "num = input('Número: ')\n",
        "lst = [int(x) for x in num]\n",
        "```"
      ]
    },
    {
      "cell_type": "code",
      "execution_count": 12,
      "id": "46b47e9b",
      "metadata": {
        "id": "46b47e9b",
        "outputId": "6eb9a282-cabc-4d87-84ec-267233ffeb6e",
        "colab": {
          "base_uri": "https://localhost:8080/"
        }
      },
      "outputs": [
        {
          "output_type": "stream",
          "name": "stdout",
          "text": [
            "ingrese el primer numero:12345\n",
            "ingrese el segundo numero:53241\n",
            "la suma de los datos de ambas listas es igual\n"
          ]
        }
      ],
      "source": [
        "#lst_1 = a\n",
        "#lst_2 = b\n",
        "a = input(\"ingrese el primer numero:\")\n",
        "b = input(\"ingrese el segundo numero:\")\n",
        "a = [1, 2, 3]\n",
        "b = [4, 5, 6]\n",
        "\n",
        "a_sum = 0\n",
        "b_sum = 0\n",
        "\n",
        "for i in a:\n",
        "    a_sum += 1\n",
        "    \n",
        "for i in b:\n",
        "    b_sum += 1\n",
        "    \n",
        "if a_sum > b_sum:\n",
        "    print(\"la suma de los datos de la lista 1 es mayor que la suma de los datos de la lista 2\")\n",
        "elif a_sum == b_sum:\n",
        "  print(\"la suma de los datos de ambas listas es igual\")\n",
        "else:\n",
        "    print(\"la sume de los datos de la lista 2 es mayor que la suma de los datos de la lista 1\")\n"
      ]
    },
    {
      "cell_type": "markdown",
      "id": "986a4945",
      "metadata": {
        "id": "986a4945"
      },
      "source": [
        "### Problema 2: Suma Objetivo (50xp)\n",
        "\n",
        "Indique si la suma de los dígitos de un número de verificación alcanza un valor objetivo. Si obtiene el valor objetivo antes de finalizar el recorrido por todos los dígitos del número, indique la iteración en la que se obtuvo este valor. Tenga en cuenta que tanto el valor objetivo como el número de verificación son ingresados por el usuario. En cualquiera de los casos, muestre el resultado obtenido de la suma de los dígitos.\n",
        "\n",
        "**Ejemplo:**\n",
        "```\n",
        "Ingrese número de suma objetivo: 15\n",
        "Ingrese número para validar suma de dígitos: 1234562\n",
        "Suma obtenida en iteración 5 de 7\n",
        "Resultado obtenido: 15\n",
        "Alcanzó el valor objetivo.\n",
        "```\n",
        "\n",
        "**Recomendación:** pruebe su algoritmo con números y listas de prueba:\n",
        "- `n_obj`: valor objetivo\n",
        "- `lst`: lista que representa el número de verificación. Por ejemplo: dígitos del número de su id\n",
        "\n",
        "**Nota:** para leer un número ingresado por el usuario y convertirlo en lista puede utilizar las siguientes instrucciones:\n",
        "\n",
        "```python\n",
        "num = input('Número: ')\n",
        "lst = [int(x) for x in num]\n",
        "```"
      ]
    },
    {
      "cell_type": "code",
      "execution_count": 14,
      "id": "895f4399",
      "metadata": {
        "id": "895f4399",
        "outputId": "b56c2089-0444-4c59-ad18-150bc476ea8c",
        "colab": {
          "base_uri": "https://localhost:8080/",
          "height": 130
        }
      },
      "outputs": [
        {
          "output_type": "error",
          "ename": "SyntaxError",
          "evalue": "ignored",
          "traceback": [
            "\u001b[0;36m  File \u001b[0;32m\"<ipython-input-14-df0976e950bf>\"\u001b[0;36m, line \u001b[0;32m13\u001b[0m\n\u001b[0;31m    print(f\"La suma de los dígitos del número de verificación es:\", suma)\u001b[0m\n\u001b[0m                                                                   ^\u001b[0m\n\u001b[0;31mSyntaxError\u001b[0m\u001b[0;31m:\u001b[0m invalid non-printable character U+00A0\n"
          ]
        }
      ],
      "source": [
        "num = input('ingrese numero de suma objetivo: ')\n",
        "num_obje = int(input('Valor objetivo: '))\n",
        "\n",
        "lst = [int(x) for x in num]\n",
        "\n",
        "suma = 0\n",
        "for i in range(len(lst)):\n",
        "    suma += lst[i]\n",
        "    if suma >= num_obje:\n",
        "        print(\"El valor objetivo se alcanzó en la iteración:\", i+1)\n",
        "        break\n",
        "\n",
        "print(f\"La suma de los dígitos del número de verificación es:\", suma)"
      ]
    },
    {
      "cell_type": "markdown",
      "id": "0b532b9b",
      "metadata": {
        "id": "0b532b9b"
      },
      "source": [
        "### Problema 3: Dígito Mayor (40xp)\n",
        "\n",
        "Indique el dígito de mayor valor y su posición en un número ingresado por el usuario. En caso de que el dígito mayor se repita, se debe retornar el índice del primero de ellos que fue encontrado. \n",
        "\n",
        "**Ejemplo:**\n",
        "\n",
        "```\n",
        "Ingrese número: 123753569054\n",
        "El dígito mayor de la lista es 9\n",
        "El número se encontró en la posición 8\n",
        "```\n",
        "\n",
        "**Recomendación:** pruebe su algoritmo con listas de prueba:\n",
        "- `lst`: lista que representa el número a evaluar. Por ejemplo: dígitos del número de su documento de identidad\n",
        "\n",
        "**Nota:** para leer un número ingresado por el usuario y convertirlo en lista puede utilizar las siguientes instrucciones:\n",
        "\n",
        "```python\n",
        "num = input('Número: ')\n",
        "lst = [int(x) for x in num]\n",
        "```"
      ]
    },
    {
      "cell_type": "code",
      "source": [],
      "metadata": {
        "id": "0S398voXSKBT"
      },
      "id": "0S398voXSKBT",
      "execution_count": null,
      "outputs": []
    },
    {
      "cell_type": "code",
      "execution_count": 10,
      "id": "9159f388",
      "metadata": {
        "scrolled": true,
        "id": "9159f388",
        "outputId": "5a20000b-ea05-4316-df94-7b77ce4b561e",
        "colab": {
          "base_uri": "https://localhost:8080/"
        }
      },
      "outputs": [
        {
          "output_type": "stream",
          "name": "stdout",
          "text": [
            "ingrese los digitos de la lista:1,2,3,4,5\n",
            "el digito de mayor valor es:\n",
            "el digito de mayor valor es:\n",
            "el digito de mayor valor es:\n",
            "el digito de mayor valor es:\n"
          ]
        }
      ],
      "source": [
        "lst_1 = input(\"ingrese los digitos de la lista:\")\n",
        "\n",
        "\n",
        "lst_1 = [int(n) for n in lst_1.split(\",\")]\n",
        "\n",
        "maximo = lst_1[0]\n",
        "\n",
        "for valor in lst_1:\n",
        "  if valor > maximo:\n",
        "    maximo = valor \n",
        "    print(\"el digito de mayor valor es:\")\n",
        "\n"
      ]
    },
    {
      "cell_type": "markdown",
      "id": "03af9108",
      "metadata": {
        "id": "03af9108"
      },
      "source": [
        "### Problema 4: Valores que coinciden (50xp)\n",
        "\n",
        "Indique las posiciones (índices) en los cuales se encuentran los mismos valores de los dígitos en dos números ingresados por el usuario. El algoritmo debe verificar que los números tengan la misma longitud (igual número de dígitos). Si ninguno de los dígitos de los números coincide, también debe informarlo al usuario. \n",
        "\n",
        "**Ejemplo:**\n",
        "\n",
        "```\n",
        "Ingrese el primer número: 124646272\n",
        "Ingrese el segundo número: 354849136\n",
        "Los números tienen 2 dígitos(s) en común en la(s) posición(es): [2, 4]\n",
        "```\n",
        "\n",
        "**Recomendación:** pruebe su algoritmo con listas de prueba:\n",
        "- `lst_1`: lista que representa el primer número. \n",
        "- `lst_2`: lista que representa el segundo número. \n",
        "\n",
        "**Nota:** para leer un número ingresado por el usuario y convertirlo en lista puede utilizar las siguientes instrucciones:\n",
        "\n",
        "```python\n",
        "num = input('Número: ')\n",
        "lst = [int(x) for x in num]\n",
        "```"
      ]
    },
    {
      "cell_type": "code",
      "execution_count": null,
      "id": "85469377",
      "metadata": {
        "id": "85469377"
      },
      "outputs": [],
      "source": []
    },
    {
      "cell_type": "code",
      "execution_count": null,
      "id": "fdf35177",
      "metadata": {
        "id": "fdf35177"
      },
      "outputs": [],
      "source": []
    }
  ],
  "metadata": {
    "kernelspec": {
      "display_name": "Python 3 (ipykernel)",
      "language": "python",
      "name": "python3"
    },
    "language_info": {
      "codemirror_mode": {
        "name": "ipython",
        "version": 3
      },
      "file_extension": ".py",
      "mimetype": "text/x-python",
      "name": "python",
      "nbconvert_exporter": "python",
      "pygments_lexer": "ipython3",
      "version": "3.10.6"
    },
    "colab": {
      "provenance": []
    }
  },
  "nbformat": 4,
  "nbformat_minor": 5
}