{
  "cells": [
    {
      "cell_type": "markdown",
      "metadata": {
        "id": "view-in-github",
        "colab_type": "text"
      },
      "source": [
        "<a href=\"https://colab.research.google.com/github/andresguarina/Taller_4_000514479/blob/main/Taller_4_Ciclos.ipynb\" target=\"_parent\"><img src=\"https://colab.research.google.com/assets/colab-badge.svg\" alt=\"Open In Colab\"/></a>"
      ]
    },
    {
      "cell_type": "markdown",
      "id": "66beb5a1",
      "metadata": {
        "id": "66beb5a1"
      },
      "source": [
        "# Fundamentos de Programación para Ingeniería Mecánica\n",
        "## UPB Montería - 202310\n",
        "### Taller 4: Ciclos\n",
        "- Docente: Miguel Ortiz (miguel.ortizp@upb.edu.co)"
      ]
    },
    {
      "cell_type": "markdown",
      "id": "b4381f55",
      "metadata": {
        "id": "b4381f55"
      },
      "source": [
        "Datos del Estudiante:\n",
        "- Nombre: andres guarin alvarez\n",
        "- ID: 000514479\n",
        "- email: andres.guarina@upb.edu.co"
      ]
    },
    {
      "cell_type": "markdown",
      "id": "433f35a0",
      "metadata": {
        "id": "433f35a0"
      },
      "source": [
        "Resuelva los siguientes ejercicios utilizando estructuras cíclicas y condicionales."
      ]
    },
    {
      "cell_type": "markdown",
      "id": "aead929b",
      "metadata": {
        "id": "aead929b"
      },
      "source": [
        "### Problema 1: Suma de Elementos (30xp)\n",
        "\n",
        "Indique cuál de los dos números ingresados por el usuario tiene una suma de dígitos mayor y la diferencia de estas sumas. Si las sumas de los dígitos son iguales, infórmelo al usuario. \n",
        "\n",
        "**Ejemplo:**\n",
        "\n",
        "```\n",
        "Ingrese el primer número: 23672646\n",
        "Ingrese el segundo número: 12653686\n",
        "La suma de los elementos de la lista 2 es mayor que la suma de los elementos de la lista 1 en 1 unidades.\n",
        "```\n",
        "\n",
        "**Recomendación:** pruebe su algoritmo con listas de prueba:\n",
        "- `lst_1`: lista que representa el primer número. Por ejemplo: dígitos del número de su documento de identidad\n",
        "- `lst_2`: lista que representa el segundo número. Por ejemplo: dígitos del número de su id\n",
        "\n",
        "**Nota:** para leer un número ingresado por el usuario y convertirlo en lista puede utilizar las siguientes instrucciones:\n",
        "\n",
        "```python\n",
        "num = input('Número: ')\n",
        "lst = [int(x) for x in num]\n",
        "```"
      ]
    },
    {
      "cell_type": "code",
      "execution_count": 12,
      "id": "46b47e9b",
      "metadata": {
        "colab": {
          "base_uri": "https://localhost:8080/"
        },
        "id": "46b47e9b",
        "outputId": "6eb9a282-cabc-4d87-84ec-267233ffeb6e"
      },
      "outputs": [
        {
          "output_type": "stream",
          "name": "stdout",
          "text": [
            "ingrese el primer numero:12345\n",
            "ingrese el segundo numero:53241\n",
            "la suma de los datos de ambas listas es igual\n"
          ]
        }
      ],
      "source": [
        "# Ingrese los 2 números y se pondrán sus valores en 2 listas\n",
        "\n",
        "num_1 = input('Número 1: ')\n",
        "\n",
        "lst_1 = [int(n) for n in num_1]\n",
        "\n",
        "num_2 = input('Numero 2: ')\n",
        "\n",
        "lst_2 = [int(n) for n in num_2]\n",
        "\n",
        "suma_1 = 0\n",
        "\n",
        "suma_2 = 0\n",
        "\n",
        "# Se suman los valores de la lista 1\n",
        "\n",
        "for i in lst_1:\n",
        "\n",
        "  suma_1 = suma_1 + i\n",
        "\n",
        "# Se suman los valores de la lista 2\n",
        "\n",
        "for i in lst_2:\n",
        "\n",
        "  suma_2 = suma_2 + i\n",
        "\n",
        "# Verificamos cuál suma de los valores de las listas es mayor y hallamos la diferencia entre la suma de ambas listas\n",
        "\n",
        "if suma_1 > suma_2:\n",
        "\n",
        "  diferencia = suma_1 - suma_2\n",
        "\n",
        "  print(\"La suma de los elementos de la lista 1 es mayor que la suma de los elementos de la lista 2 en \" + str(diferencia) + \" unidades.\")\n",
        "\n",
        "elif suma_2 > suma_1:\n",
        "\n",
        "  diferencia = suma_2 - suma_1\n",
        "\n",
        "  print(\"La suma de los elementos de la lista 2 es mayor que la suma de los elementos de la lista 1 en \" + str(diferencia) + \" unidades.\")\n",
        "\n",
        "else:\n",
        "\n",
        "  diferencia = 0\n",
        "\n",
        "  print(\"La suma de los elementos de la lista 1 es igual que la suma de los elementos de la lista 2.\")\n"
      ]
    },
    {
      "cell_type": "markdown",
      "id": "986a4945",
      "metadata": {
        "id": "986a4945"
      },
      "source": [
        "### Problema 2: Suma Objetivo (50xp)\n",
        "\n",
        "Indique si la suma de los dígitos de un número de verificación alcanza un valor objetivo. Si obtiene el valor objetivo antes de finalizar el recorrido por todos los dígitos del número, indique la iteración en la que se obtuvo este valor. Tenga en cuenta que tanto el valor objetivo como el número de verificación son ingresados por el usuario. En cualquiera de los casos, muestre el resultado obtenido de la suma de los dígitos.\n",
        "\n",
        "**Ejemplo:**\n",
        "```\n",
        "Ingrese número de suma objetivo: 15\n",
        "Ingrese número para validar suma de dígitos: 1234562\n",
        "Suma obtenida en iteración 5 de 7\n",
        "Resultado obtenido: 15\n",
        "Alcanzó el valor objetivo.\n",
        "```\n",
        "\n",
        "**Recomendación:** pruebe su algoritmo con números y listas de prueba:\n",
        "- `n_obj`: valor objetivo\n",
        "- `lst`: lista que representa el número de verificación. Por ejemplo: dígitos del número de su id\n",
        "\n",
        "**Nota:** para leer un número ingresado por el usuario y convertirlo en lista puede utilizar las siguientes instrucciones:\n",
        "\n",
        "```python\n",
        "num = input('Número: ')\n",
        "lst = [int(x) for x in num]\n",
        "```"
      ]
    },
    {
      "cell_type": "code",
      "execution_count": 1,
      "id": "895f4399",
      "metadata": {
        "colab": {
          "base_uri": "https://localhost:8080/"
        },
        "id": "895f4399",
        "outputId": "27b1aaf4-e434-4ad5-aa37-40b2cdae566e"
      },
      "outputs": [
        {
          "output_type": "stream",
          "name": "stdout",
          "text": [
            "ingrese numero de suma objetivo: 23545456\n",
            "Valor objetivo: 5\n",
            "El valor objetivo se alcanzó en la iteración: 2\n",
            "La suma de los dígitos del número de verificación es: 5\n"
          ]
        }
      ],
      "source": [
        "num = input('ingrese numero de suma objetivo: ')\n",
        "num_obje = int(input('Valor objetivo: '))\n",
        "\n",
        "lst = [int(x) for x in num]\n",
        "\n",
        "suma = 0\n",
        "for i in range(len(lst)):\n",
        "    suma += lst[i]\n",
        "    if suma >= num_obje:\n",
        "        print(\"El valor objetivo se alcanzó en la iteración:\", i+1)\n",
        "        break\n",
        "\n",
        "print(f\"La suma de los dígitos del número de verificación es:\",suma)"
      ]
    },
    {
      "cell_type": "markdown",
      "id": "0b532b9b",
      "metadata": {
        "id": "0b532b9b"
      },
      "source": [
        "### Problema 3: Dígito Mayor (40xp)\n",
        "\n",
        "Indique el dígito de mayor valor y su posición en un número ingresado por el usuario. En caso de que el dígito mayor se repita, se debe retornar el índice del primero de ellos que fue encontrado. \n",
        "\n",
        "**Ejemplo:**\n",
        "\n",
        "```\n",
        "Ingrese número: 123753569054\n",
        "El dígito mayor de la lista es 9\n",
        "El número se encontró en la posición 8\n",
        "```\n",
        "\n",
        "**Recomendación:** pruebe su algoritmo con listas de prueba:\n",
        "- `lst`: lista que representa el número a evaluar. Por ejemplo: dígitos del número de su documento de identidad\n",
        "\n",
        "**Nota:** para leer un número ingresado por el usuario y convertirlo en lista puede utilizar las siguientes instrucciones:\n",
        "\n",
        "```python\n",
        "num = input('Número: ')\n",
        "lst = [int(x) for x in num]\n",
        "```"
      ]
    },
    {
      "cell_type": "code",
      "source": [],
      "metadata": {
        "id": "0S398voXSKBT"
      },
      "id": "0S398voXSKBT",
      "execution_count": null,
      "outputs": []
    },
    {
      "cell_type": "code",
      "execution_count": 9,
      "id": "9159f388",
      "metadata": {
        "scrolled": true,
        "colab": {
          "base_uri": "https://localhost:8080/"
        },
        "id": "9159f388",
        "outputId": "637c3c5b-2d78-40ce-c40c-973345da3f24"
      },
      "outputs": [
        {
          "output_type": "stream",
          "name": "stdout",
          "text": [
            "Ingrese un número entero: 2342564346\n",
            "El dígito mayor de la lista es: 6\n",
            "su posición es: 5\n"
          ]
        }
      ],
      "source": [
        "\n",
        "\n",
        "numero = input(\"Ingrese un número entero: \")\n",
        "digito_max = numero[0]\n",
        "posicion = [0]\n",
        "\n",
        "for i in range(len(numero)):\n",
        "    if numero[i] > digito_max:\n",
        "        digito_max = numero[i]\n",
        "        posicion = i\n",
        "\n",
        "print(\"El dígito mayor de la lista es:\", digito_max)\n",
        "print(\"su posición es:\", posicion)\n"
      ]
    },
    {
      "cell_type": "markdown",
      "id": "03af9108",
      "metadata": {
        "id": "03af9108"
      },
      "source": [
        "### Problema 4: Valores que coinciden (50xp)\n",
        "\n",
        "Indique las posiciones (índices) en los cuales se encuentran los mismos valores de los dígitos en dos números ingresados por el usuario. El algoritmo debe verificar que los números tengan la misma longitud (igual número de dígitos). Si ninguno de los dígitos de los números coincide, también debe informarlo al usuario. \n",
        "\n",
        "**Ejemplo:**\n",
        "\n",
        "```\n",
        "Ingrese el primer número: 124646272\n",
        "Ingrese el segundo número: 354849136\n",
        "Los números tienen 2 dígitos(s) en común en la(s) posición(es): [2, 4]\n",
        "```\n",
        "\n",
        "**Recomendación:** pruebe su algoritmo con listas de prueba:\n",
        "- `lst_1`: lista que representa el primer número. \n",
        "- `lst_2`: lista que representa el segundo número. \n",
        "\n",
        "**Nota:** para leer un número ingresado por el usuario y convertirlo en lista puede utilizar las siguientes instrucciones:\n",
        "\n",
        "```python\n",
        "num = input('Número: ')\n",
        "lst = [int(x) for x in num]\n",
        "```"
      ]
    },
    {
      "cell_type": "code",
      "execution_count": 10,
      "id": "85469377",
      "metadata": {
        "colab": {
          "base_uri": "https://localhost:8080/"
        },
        "id": "85469377",
        "outputId": "c16496ea-b9c4-4321-fb16-7c2c3ff187a0"
      },
      "outputs": [
        {
          "output_type": "stream",
          "name": "stdout",
          "text": [
            "Ingrese el primer número: 12322345346\n",
            "Ingrese el segundo número: 13423536456\n",
            "Los números tienen coincidencias en las posiciones: [0, 3, 10]\n"
          ]
        }
      ],
      "source": [
        "num1 = input(\"Ingrese el primer número: \")\n",
        "num2 = input(\"Ingrese el segundo número: \")\n",
        "\n",
        "if len(num1) != len(num2):\n",
        "    print(\"Los números no tienen la misma longitud.\")\n",
        "else:\n",
        "    coincidencias = []\n",
        "    for i in range(len(num1)):\n",
        "        if num1[i] == num2[i]:\n",
        "            coincidencias.append(i)\n",
        "    if len(coincidencias) > 0:\n",
        "        print(\"Los números tienen coincidencias en las posiciones:\", coincidencias)\n",
        "    else:\n",
        "        print(\"Los números no tienen dígitos coincidentes.\")\n",
        "        "
      ]
    },
    {
      "cell_type": "code",
      "execution_count": null,
      "id": "fdf35177",
      "metadata": {
        "id": "fdf35177"
      },
      "outputs": [],
      "source": []
    },
    {
      "cell_type": "code",
      "source": [],
      "metadata": {
        "id": "ckWo7DKDANAW"
      },
      "id": "ckWo7DKDANAW",
      "execution_count": null,
      "outputs": []
    },
    {
      "cell_type": "code",
      "source": [],
      "metadata": {
        "id": "dNJNKSkeANCf"
      },
      "id": "dNJNKSkeANCf",
      "execution_count": null,
      "outputs": []
    }
  ],
  "metadata": {
    "kernelspec": {
      "display_name": "Python 3 (ipykernel)",
      "language": "python",
      "name": "python3"
    },
    "language_info": {
      "codemirror_mode": {
        "name": "ipython",
        "version": 3
      },
      "file_extension": ".py",
      "mimetype": "text/x-python",
      "name": "python",
      "nbconvert_exporter": "python",
      "pygments_lexer": "ipython3",
      "version": "3.10.6"
    },
    "colab": {
      "provenance": [],
      "include_colab_link": true
    }
  },
  "nbformat": 4,
  "nbformat_minor": 5
}